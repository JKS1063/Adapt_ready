{
 "cells": [
  {
   "cell_type": "markdown",
   "id": "e8e80a0b",
   "metadata": {},
   "source": [
    "2. Given an unsorted array of integers, find the length of the longest continuous increasing subsequence (subarray). \n",
    "\n",
    "    Example 1:\n",
    "    Input: [1,3,5,4,7]\n",
    "    Output: 3 \n",
    "\n",
    "\n",
    "    Example 2:\n",
    "    Input: [2,2,2,2,2]\n",
    "    Output: 1\n"
   ]
  },
  {
   "cell_type": "code",
   "execution_count": 1,
   "id": "d39fd28b",
   "metadata": {},
   "outputs": [
    {
     "name": "stdout",
     "output_type": "stream",
     "text": [
      "Enter integers: 2 2 2 2\n",
      "Length of Longest continous increase sequence is: 1\n"
     ]
    }
   ],
   "source": [
    "seq = list(map(int, input('Enter integers: ').split()))\n",
    "\n",
    "def max_sequence(sequence):\n",
    "    \n",
    "    max_length = 1\n",
    "    cur_length = 1\n",
    "    \n",
    "    for i in range(1, len(sequence)):\n",
    "        if sequence[i] > sequence[i-1]:\n",
    "            cur_length += 1\n",
    "        else:\n",
    "            max_length = max(max_length, cur_length)\n",
    "            cur_length = 1\n",
    "            \n",
    "    return max(max_length, cur_length)\n",
    "\n",
    "print(f\"Length of Longest continous increase sequence is: {max_sequence(seq)}\")\n",
    "        "
   ]
  },
  {
   "cell_type": "markdown",
   "id": "51b2304a",
   "metadata": {},
   "source": [
    "3. Given a list of non negative integers, arrange them such that they form the largest number.\n",
    "\n",
    " Example 1:\n",
    " Input: [10,2]\n",
    " Output: \"210\"\n"
   ]
  },
  {
   "cell_type": "code",
   "execution_count": 2,
   "id": "5aadd0e4",
   "metadata": {},
   "outputs": [
    {
     "name": "stdout",
     "output_type": "stream",
     "text": [
      "Enter Integers: 10 2\n",
      "Max number is:  210\n"
     ]
    }
   ],
   "source": [
    "inp = list(map(str, input('Enter Integers: ').split()))\n",
    "\n",
    "def max_number(input_list):\n",
    "    out = list(''.join(input_list))\n",
    "    list1 = [int(i) for i in out]\n",
    "    list1.sort()\n",
    "    list1 = list1[::-1]\n",
    "    str_list = [str(i) for i in list1]\n",
    "    max_number = int(''.join(str_list))\n",
    "    return max_number\n",
    "\n",
    "print('Max number is: ', max_number(inp))"
   ]
  },
  {
   "cell_type": "markdown",
   "id": "038de3d2",
   "metadata": {},
   "source": [
    "4. Store all the \"servlet-name\", and \"servlet-class\" to a csv file from the attached sample_json.json file using Python."
   ]
  },
  {
   "cell_type": "code",
   "execution_count": 3,
   "id": "4f72f056",
   "metadata": {},
   "outputs": [],
   "source": [
    "import json\n",
    "import pandas as pd"
   ]
  },
  {
   "cell_type": "code",
   "execution_count": 4,
   "id": "de7e9318",
   "metadata": {},
   "outputs": [],
   "source": [
    "df = pd.read_json(\"DT A1 sample_json.json\")"
   ]
  },
  {
   "cell_type": "code",
   "execution_count": 5,
   "id": "f5eb0e82",
   "metadata": {},
   "outputs": [
    {
     "data": {
      "text/html": [
       "<div>\n",
       "<style scoped>\n",
       "    .dataframe tbody tr th:only-of-type {\n",
       "        vertical-align: middle;\n",
       "    }\n",
       "\n",
       "    .dataframe tbody tr th {\n",
       "        vertical-align: top;\n",
       "    }\n",
       "\n",
       "    .dataframe thead th {\n",
       "        text-align: right;\n",
       "    }\n",
       "</style>\n",
       "<table border=\"1\" class=\"dataframe\">\n",
       "  <thead>\n",
       "    <tr style=\"text-align: right;\">\n",
       "      <th></th>\n",
       "      <th>web-app</th>\n",
       "    </tr>\n",
       "  </thead>\n",
       "  <tbody>\n",
       "    <tr>\n",
       "      <th>servlet</th>\n",
       "      <td>[{'servlet-name': 'cofaxCDS', 'servlet-class':...</td>\n",
       "    </tr>\n",
       "    <tr>\n",
       "      <th>servlet-mapping</th>\n",
       "      <td>{'cofaxCDS': '/', 'cofaxEmail': '/cofaxutil/ae...</td>\n",
       "    </tr>\n",
       "    <tr>\n",
       "      <th>taglib</th>\n",
       "      <td>{'taglib-uri': 'cofax.tld', 'taglib-location':...</td>\n",
       "    </tr>\n",
       "  </tbody>\n",
       "</table>\n",
       "</div>"
      ],
      "text/plain": [
       "                                                           web-app\n",
       "servlet          [{'servlet-name': 'cofaxCDS', 'servlet-class':...\n",
       "servlet-mapping  {'cofaxCDS': '/', 'cofaxEmail': '/cofaxutil/ae...\n",
       "taglib           {'taglib-uri': 'cofax.tld', 'taglib-location':..."
      ]
     },
     "execution_count": 5,
     "metadata": {},
     "output_type": "execute_result"
    }
   ],
   "source": [
    "df"
   ]
  },
  {
   "cell_type": "code",
   "execution_count": 6,
   "id": "5e5e1ebc",
   "metadata": {},
   "outputs": [],
   "source": [
    "df2 = df.to_csv('json_csv.csv')"
   ]
  },
  {
   "cell_type": "code",
   "execution_count": 8,
   "id": "a4fd25a5",
   "metadata": {},
   "outputs": [],
   "source": [
    "df2 = pd.read_csv('json_csv.csv')"
   ]
  },
  {
   "cell_type": "code",
   "execution_count": 9,
   "id": "ae151e99",
   "metadata": {},
   "outputs": [
    {
     "data": {
      "text/html": [
       "<div>\n",
       "<style scoped>\n",
       "    .dataframe tbody tr th:only-of-type {\n",
       "        vertical-align: middle;\n",
       "    }\n",
       "\n",
       "    .dataframe tbody tr th {\n",
       "        vertical-align: top;\n",
       "    }\n",
       "\n",
       "    .dataframe thead th {\n",
       "        text-align: right;\n",
       "    }\n",
       "</style>\n",
       "<table border=\"1\" class=\"dataframe\">\n",
       "  <thead>\n",
       "    <tr style=\"text-align: right;\">\n",
       "      <th></th>\n",
       "      <th>Unnamed: 0</th>\n",
       "      <th>web-app</th>\n",
       "    </tr>\n",
       "  </thead>\n",
       "  <tbody>\n",
       "    <tr>\n",
       "      <th>0</th>\n",
       "      <td>servlet</td>\n",
       "      <td>[{'servlet-name': 'cofaxCDS', 'servlet-class':...</td>\n",
       "    </tr>\n",
       "    <tr>\n",
       "      <th>1</th>\n",
       "      <td>servlet-mapping</td>\n",
       "      <td>{'cofaxCDS': '/', 'cofaxEmail': '/cofaxutil/ae...</td>\n",
       "    </tr>\n",
       "    <tr>\n",
       "      <th>2</th>\n",
       "      <td>taglib</td>\n",
       "      <td>{'taglib-uri': 'cofax.tld', 'taglib-location':...</td>\n",
       "    </tr>\n",
       "  </tbody>\n",
       "</table>\n",
       "</div>"
      ],
      "text/plain": [
       "        Unnamed: 0                                            web-app\n",
       "0          servlet  [{'servlet-name': 'cofaxCDS', 'servlet-class':...\n",
       "1  servlet-mapping  {'cofaxCDS': '/', 'cofaxEmail': '/cofaxutil/ae...\n",
       "2           taglib  {'taglib-uri': 'cofax.tld', 'taglib-location':..."
      ]
     },
     "execution_count": 9,
     "metadata": {},
     "output_type": "execute_result"
    }
   ],
   "source": [
    "df2"
   ]
  },
  {
   "cell_type": "code",
   "execution_count": null,
   "id": "beaf1447",
   "metadata": {},
   "outputs": [],
   "source": []
  }
 ],
 "metadata": {
  "kernelspec": {
   "display_name": "Python 3 (ipykernel)",
   "language": "python",
   "name": "python3"
  },
  "language_info": {
   "codemirror_mode": {
    "name": "ipython",
    "version": 3
   },
   "file_extension": ".py",
   "mimetype": "text/x-python",
   "name": "python",
   "nbconvert_exporter": "python",
   "pygments_lexer": "ipython3",
   "version": "3.11.5"
  }
 },
 "nbformat": 4,
 "nbformat_minor": 5
}
